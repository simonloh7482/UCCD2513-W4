{
 "cells": [
  {
   "cell_type": "markdown",
   "id": "49b1d326",
   "metadata": {},
   "source": [
    "# Setup"
   ]
  },
  {
   "cell_type": "code",
   "execution_count": null,
   "id": "9ec41887",
   "metadata": {},
   "outputs": [],
   "source": [
    "import sys\n",
    "# Python 3.7 is required\n",
    "assert sys.version_info >= (3,7)\n",
    "\n",
    "import cv2 as cv\n",
    "import numpy as np\n",
    "\n",
    "# For reproducibility,\n",
    "np.random.seed(99)\n",
    "\n",
    "# Make sure that optimization is enabled\n",
    "if not cv.useOptimized():\n",
    "    cv.setUseOptimized(True)\n",
    "\n",
    "cv.useOptimized()"
   ]
  },
  {
   "cell_type": "markdown",
   "id": "567b1043",
   "metadata": {},
   "source": [
    "# Activity 1"
   ]
  },
  {
   "cell_type": "markdown",
   "id": "e7ede889",
   "metadata": {},
   "source": [
    "1.1 Import two images"
   ]
  },
  {
   "cell_type": "code",
   "execution_count": null,
   "id": "cdc54b30",
   "metadata": {},
   "outputs": [],
   "source": [
    "img1 = cv.imread('lena.png') # Default BGR \n",
    "img1_grayscale = cv.imread('lena.png', 0) # grayscale\n",
    "img2 = cv.cvtColor(img1_grayscale,cv.COLOR_GRAY2BGR) # convert to BGR"
   ]
  },
  {
   "cell_type": "markdown",
   "id": "cf67f3ac",
   "metadata": {},
   "source": [
    "1.2 Method 1: Concatenate two images using OpenCV's vconcat()/hconcat()"
   ]
  },
  {
   "cell_type": "code",
   "execution_count": null,
   "id": "3309184f",
   "metadata": {
    "scrolled": true
   },
   "outputs": [],
   "source": [
    "img3 = cv.vconcat([img1,img2])\n",
    "\n",
    "cv.imshow('VConcat',img3)\n",
    "cv.waitKey(0)\n",
    "cv.destroyAllWindows()"
   ]
  },
  {
   "cell_type": "markdown",
   "id": "e456e037",
   "metadata": {},
   "source": [
    "1.3 Method 2: Concatenate two images using numpy's vstack()/hstack()"
   ]
  },
  {
   "cell_type": "code",
   "execution_count": null,
   "id": "3dcb89c0",
   "metadata": {},
   "outputs": [],
   "source": [
    "img4 = np.hstack((img1, img2))\n",
    "\n",
    "cv.imshow('HStack',img4)\n",
    "cv.waitKey(0)\n",
    "cv.destroyAllWindows()"
   ]
  },
  {
   "cell_type": "markdown",
   "id": "003f5b2a",
   "metadata": {},
   "source": [
    "# Activity 2"
   ]
  },
  {
   "cell_type": "markdown",
   "id": "68595491",
   "metadata": {},
   "source": [
    "2.1 Resize and display video"
   ]
  },
  {
   "cell_type": "code",
   "execution_count": null,
   "id": "cf557269",
   "metadata": {},
   "outputs": [],
   "source": [
    "# Create a VideoCapture object\n",
    "cap = cv.VideoCapture('img_pexels.mp4')\n",
    "\n",
    "# Check if the object has been created successfully\n",
    "if not cap.isOpened():\n",
    "    print(\"Unable to create video\")\n",
    "\n",
    "# Read until the video is completed.\n",
    "while cap.isOpened():\n",
    "    ret, frame = cap.read()\n",
    "    \n",
    "    # if frame is read then ret is True\n",
    "    if not ret:\n",
    "        print(\"Can't receive frame.\")\n",
    "        break\n",
    "    \n",
    "    cv.namedWindow('frame', cv.WINDOW_NORMAL)\n",
    "    frame_resize = cv.resize(frame,(720,1280),fx=0,fy=0, interpolation = cv.INTER_CUBIC)\n",
    "    cv.imshow('frame', frame_resize)\n",
    "    # Press Esc key to exit (27 is ASCII code for Esc). cv.waitKey() returns 32 bit integer values. You can find the ASCII table\n",
    "    # on this URL: https://theasciicode.com.ar/\n",
    "    if cv.waitKey(1) & 0xFF == 27:\n",
    "        break\n",
    "\n",
    "# destroy the constructor\n",
    "cap.release()\n",
    "cv.destroyAllWindows()"
   ]
  },
  {
   "cell_type": "markdown",
   "id": "471c811a",
   "metadata": {},
   "source": [
    "2.2 Save the resized video"
   ]
  },
  {
   "cell_type": "code",
   "execution_count": null,
   "id": "651c02c1",
   "metadata": {},
   "outputs": [],
   "source": [
    "# Create a VideoCapture object\n",
    "cap = cv.VideoCapture('img_pexels.mp4')\n",
    "\n",
    "# Check if the object has been created successfully\n",
    "if not cap.isOpened():\n",
    "    print(\"Unable to create video\")\n",
    "\n",
    "# Create VideoWriter object\n",
    "fourcc = cv.VideoWriter_fourcc(*'mp4v')\n",
    "out = cv.VideoWriter('smaller_img_pexels.mp4',fourcc, 60, (720,1280), True)\n",
    "    \n",
    "# Read until the video is completed.\n",
    "while cap.isOpened():\n",
    "    ret, frame = cap.read()\n",
    "    \n",
    "    # if frame is read then ret is True\n",
    "    if ret == True:\n",
    "        # resize every frame\n",
    "        b = cv.resize(frame,(720,1280),fx=0,fy=0, interpolation = cv.INTER_CUBIC)\n",
    "        out.write(b)\n",
    "    else:\n",
    "        break\n",
    "\n",
    "# destroy the constructor\n",
    "cap.release()\n",
    "out.release()\n",
    "cv.destroyAllWindows()"
   ]
  },
  {
   "cell_type": "markdown",
   "id": "fb1a0af0",
   "metadata": {},
   "source": [
    "# Activity 3"
   ]
  },
  {
   "cell_type": "markdown",
   "id": "f446de84",
   "metadata": {},
   "source": [
    "3.1 Create a random noise color and grayscale image"
   ]
  },
  {
   "cell_type": "code",
   "execution_count": null,
   "id": "b7355e87",
   "metadata": {},
   "outputs": [],
   "source": [
    "img = np.zeros((224,224), dtype = np.uint8)\n",
    "mean = 0\n",
    "var = 10\n",
    "sigma = var ** 0.5\n",
    "gaussian = np.random.normal(mean, sigma, (224, 224)) #  np.zeros((224, 224), np.float32)\n",
    "\n",
    "noisy_image = np.zeros(img.shape, np.float32)\n",
    "\n",
    "if len(img.shape) == 2:\n",
    "    noisy_image = img + gaussian\n",
    "else:\n",
    "    noisy_image[:, :, 0] = img[:, :, 0] + gaussian\n",
    "    noisy_image[:, :, 1] = img[:, :, 1] + gaussian\n",
    "    noisy_image[:, :, 2] = img[:, :, 2] + gaussian\n",
    "\n",
    "cv.normalize(noisy_image, noisy_image, 0, 255, cv.NORM_MINMAX, dtype=-1)\n",
    "noisy_image = noisy_image.astype(np.uint8)\n",
    "\n",
    "cv.imshow(\"img\", img)\n",
    "cv.imshow(\"gaussian\", gaussian)\n",
    "cv.imshow(\"noisy\", noisy_image)\n",
    "\n",
    "cv.waitKey(0)\n"
   ]
  },
  {
   "cell_type": "code",
   "execution_count": null,
   "id": "b2fed183",
   "metadata": {
    "scrolled": true
   },
   "outputs": [],
   "source": [
    "img = np.zeros((224,224), dtype = np.uint8)\n",
    "img = cv.cvtColor(img, cv.COLOR_GRAY2BGR)\n",
    "mean = 0\n",
    "var = 10\n",
    "sigma = var ** 0.5\n",
    "gaussian = np.random.normal(mean, sigma, (224, 224)) #  np.zeros((224, 224), np.float32)\n",
    "\n",
    "noisy_image = np.zeros(img.shape, np.float32)\n",
    "\n",
    "if len(img.shape) == 2:\n",
    "    noisy_image = img + gaussian\n",
    "else:\n",
    "    noisy_image[:, :, 0] = img[:, :, 0] + gaussian\n",
    "    noisy_image[:, :, 1] = img[:, :, 1] + gaussian\n",
    "    noisy_image[:, :, 2] = img[:, :, 2] + gaussian\n",
    "\n",
    "cv.normalize(noisy_image, noisy_image, 0, 255, cv.NORM_MINMAX, dtype=-1)\n",
    "noisy_image = noisy_image.astype(np.uint8)\n",
    "\n",
    "cv.imshow(\"img\", img)\n",
    "cv.imshow(\"gaussian\", gaussian)\n",
    "cv.imshow(\"noisy\", noisy_image)\n",
    "\n",
    "cv.waitKey(0)"
   ]
  },
  {
   "cell_type": "markdown",
   "id": "035f508b",
   "metadata": {},
   "source": [
    "3.2 Extract ROI from 'flower.jfif'"
   ]
  },
  {
   "cell_type": "code",
   "execution_count": null,
   "id": "80061a42",
   "metadata": {
    "scrolled": true
   },
   "outputs": [],
   "source": [
    "img = cv.imread('flower.jfif')\n",
    "\n",
    "#range (40,120)/(85,175)\n",
    "flower = img[40:120,85:175]\n",
    "#(80,90)\n",
    "cv.imshow('flower',flower)\n",
    "cv.waitKey(0)\n",
    "cv.destroyAllWindows()"
   ]
  },
  {
   "cell_type": "markdown",
   "id": "2ea1ba94",
   "metadata": {},
   "source": [
    "3.3 Enlarge 'dog.jfif' using linear interpolation, cubic interpolation and nearest neighbor interpolation. Comment on the upscaled images."
   ]
  },
  {
   "cell_type": "code",
   "execution_count": null,
   "id": "6f01c8c1",
   "metadata": {},
   "outputs": [],
   "source": [
    "img = cv.imread('dog.jfif')\n",
    "img_resize_l = cv.resize(img, None, fx = 2, fy = 2, interpolation = cv.INTER_LINEAR)\n",
    "img_resize_c = cv.resize(img, None, fx = 2, fy = 2, interpolation = cv.INTER_CUBIC)\n",
    "img_resize_n = cv.resize(img, None, fx = 2, fy = 2, interpolation = cv.INTER_NEAREST)\n",
    "\n",
    "cv.imshow('Linear interpolation', img_resize_l)\n",
    "cv.imshow('Cubic interpolation', img_resize_c)\n",
    "cv.imshow('NN interpolation', img_resize_n)\n",
    "cv.waitKey(0)\n",
    "cv.destroyAllWindows()"
   ]
  },
  {
   "cell_type": "markdown",
   "id": "3c455fd4",
   "metadata": {},
   "source": [
    "Nearest neighbor interpolation has the worst quality of them all as the output it produces contains a lot of jagged edges and unpleasant looking.\n",
    "Linear interpolation produces a noticably better image quality compared to nearest neighbor.\n",
    "Although cubic interpolation is slower, but it produces the best quality among these three types of interpolation."
   ]
  }
 ],
 "metadata": {
  "kernelspec": {
   "display_name": "Python 3 (ipykernel)",
   "language": "python",
   "name": "python3"
  },
  "language_info": {
   "codemirror_mode": {
    "name": "ipython",
    "version": 3
   },
   "file_extension": ".py",
   "mimetype": "text/x-python",
   "name": "python",
   "nbconvert_exporter": "python",
   "pygments_lexer": "ipython3",
   "version": "3.8.8"
  }
 },
 "nbformat": 4,
 "nbformat_minor": 5
}
