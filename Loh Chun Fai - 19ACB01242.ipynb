{
 "cells": [
  {
   "cell_type": "markdown",
   "id": "49b1d326",
   "metadata": {},
   "source": [
    "# Setup"
   ]
  },
  {
   "cell_type": "code",
   "execution_count": 6,
   "id": "9ec41887",
   "metadata": {},
   "outputs": [
    {
     "data": {
      "text/plain": [
       "True"
      ]
     },
     "execution_count": 6,
     "metadata": {},
     "output_type": "execute_result"
    }
   ],
   "source": [
    "import sys\n",
    "# Python 3.7 is required\n",
    "assert sys.version_info >= (3,7)\n",
    "\n",
    "import cv2 as cv\n",
    "import numpy as np\n",
    "\n",
    "# For reproducibility,\n",
    "np.random.seed(99)\n",
    "\n",
    "# Make sure that optimization is enabled\n",
    "if not cv.useOptimized():\n",
    "    cv.setUseOptimized(True)\n",
    "\n",
    "cv.useOptimized()"
   ]
  },
  {
   "cell_type": "markdown",
   "id": "567b1043",
   "metadata": {},
   "source": [
    "# Activity 1"
   ]
  },
  {
   "cell_type": "markdown",
   "id": "e7ede889",
   "metadata": {},
   "source": [
    "1.1 Import two images"
   ]
  },
  {
   "cell_type": "code",
   "execution_count": 7,
   "id": "cdc54b30",
   "metadata": {},
   "outputs": [],
   "source": [
    "img1 = cv.imread('lena.png') # Default BGR \n",
    "img1_grayscale = cv.imread('lena.png', 0) # grayscale\n",
    "img2 = cv.cvtColor(img1_grayscale,cv.COLOR_GRAY2BGR) # convert to BGR"
   ]
  },
  {
   "cell_type": "markdown",
   "id": "cf67f3ac",
   "metadata": {},
   "source": [
    "1.2 Method 1: Concatenate two images using OpenCV's vconcat()/hconcat()"
   ]
  },
  {
   "cell_type": "code",
   "execution_count": 9,
   "id": "3309184f",
   "metadata": {
    "scrolled": true
   },
   "outputs": [],
   "source": [
    "img3 = cv.vconcat([img1,img2])\n",
    "\n",
    "cv.imshow('VConcat',img3)\n",
    "cv.waitKey(0)\n",
    "cv.destroyAllWindows()"
   ]
  },
  {
   "cell_type": "markdown",
   "id": "e456e037",
   "metadata": {},
   "source": [
    "1.3 Method 2: Concatenate two images using numpy's vstack()/hstack()"
   ]
  },
  {
   "cell_type": "code",
   "execution_count": 13,
   "id": "3dcb89c0",
   "metadata": {},
   "outputs": [],
   "source": [
    "img4 = np.hstack((img1, img2))\n",
    "\n",
    "cv.imshow('HStack',img4)\n",
    "cv.waitKey(0)\n",
    "cv.destroyAllWindows()"
   ]
  },
  {
   "cell_type": "markdown",
   "id": "003f5b2a",
   "metadata": {},
   "source": [
    " # Activity 2"
   ]
  },
  {
   "cell_type": "code",
   "execution_count": 20,
   "id": "651c02c1",
   "metadata": {},
   "outputs": [],
   "source": [
    "# Create a VideoCapture object\n",
    "cap = cv.VideoCapture('img_pexels.mp4')\n",
    "\n",
    "# Check if the object has been created successfully\n",
    "if not cap.isOpened():\n",
    "    print(\"Unable to create video\")\n",
    "\n",
    "# Create VideoWriter object\n",
    "fourcc = cv.VideoWriter_fourcc(*'mp4v')\n",
    "out = cv.VideoWriter('smaller_img_pexels.mp4',fourcc, 60, (720,1280), True)\n",
    "    \n",
    "# Read until the video is completed.\n",
    "while cap.isOpened():\n",
    "    ret, frame = cap.read()\n",
    "    \n",
    "    # if frame is read then ret is True\n",
    "    if ret == True:\n",
    "        # resize every frame\n",
    "        b = cv.resize(frame,(720,1280),fx=0,fy=0, interpolation = cv.INTER_CUBIC)\n",
    "        out.write(b)\n",
    "    else:\n",
    "        break\n",
    "\n",
    "# destroy the constructor\n",
    "cap.release()\n",
    "out.release()\n",
    "cv.destroyAllWindows()"
   ]
  },
  {
   "cell_type": "code",
   "execution_count": null,
   "id": "1be7da4d",
   "metadata": {},
   "outputs": [],
   "source": []
  },
  {
   "cell_type": "code",
   "execution_count": null,
   "id": "9723dd7d",
   "metadata": {},
   "outputs": [],
   "source": []
  },
  {
   "cell_type": "code",
   "execution_count": null,
   "id": "b7355e87",
   "metadata": {},
   "outputs": [],
   "source": []
  },
  {
   "cell_type": "code",
   "execution_count": null,
   "id": "6726298c",
   "metadata": {},
   "outputs": [],
   "source": []
  },
  {
   "cell_type": "code",
   "execution_count": null,
   "id": "80061a42",
   "metadata": {},
   "outputs": [],
   "source": []
  }
 ],
 "metadata": {
  "kernelspec": {
   "display_name": "Python 3 (ipykernel)",
   "language": "python",
   "name": "python3"
  },
  "language_info": {
   "codemirror_mode": {
    "name": "ipython",
    "version": 3
   },
   "file_extension": ".py",
   "mimetype": "text/x-python",
   "name": "python",
   "nbconvert_exporter": "python",
   "pygments_lexer": "ipython3",
   "version": "3.8.8"
  }
 },
 "nbformat": 4,
 "nbformat_minor": 5
}
