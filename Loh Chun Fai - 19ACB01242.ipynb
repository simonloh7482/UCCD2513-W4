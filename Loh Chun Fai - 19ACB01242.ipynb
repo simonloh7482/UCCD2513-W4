{
 "cells": [
  {
   "cell_type": "code",
   "execution_count": 3,
   "id": "337a2da6",
   "metadata": {},
   "outputs": [
    {
     "name": "stdout",
     "output_type": "stream",
     "text": [
      "OpenCV bindings requires \"numpy\" package.\n",
      "Install it via command:\n",
      "    pip install numpy\n"
     ]
    },
    {
     "ename": "ImportError",
     "evalue": "\n\nIMPORTANT: PLEASE READ THIS FOR ADVICE ON HOW TO SOLVE THIS ISSUE!\n\nImporting the numpy C-extensions failed. This error can happen for\nmany reasons, often due to issues with your setup or how NumPy was\ninstalled.\n\nWe have compiled some common reasons and troubleshooting tips at:\n\n    https://numpy.org/devdocs/user/troubleshooting-importerror.html\n\nPlease note and check the following:\n\n  * The Python version is: Python3.10 from \"/Users/simon/Documents/GitHub/UCCD2513-W4/env/bin/python\"\n  * The NumPy version is: \"1.23.0\"\n\nand make sure that they are the versions you expect.\nPlease carefully study the documentation linked above for further help.\n\nOriginal error was: dlopen(/Users/simon/Documents/GitHub/UCCD2513-W4/env/lib/python3.10/site-packages/numpy/core/_multiarray_umath.cpython-310-darwin.so, 0x0002): tried: '/Users/simon/Documents/GitHub/UCCD2513-W4/env/lib/python3.10/site-packages/numpy/core/_multiarray_umath.cpython-310-darwin.so' (mach-o file, but is an incompatible architecture (have 'arm64', need 'x86_64'))\n",
     "output_type": "error",
     "traceback": [
      "\u001b[0;31m---------------------------------------------------------------------------\u001b[0m",
      "\u001b[0;31mImportError\u001b[0m                               Traceback (most recent call last)",
      "File \u001b[0;32m~/Documents/GitHub/UCCD2513-W4/env/lib/python3.10/site-packages/numpy/core/__init__.py:23\u001b[0m, in \u001b[0;36m<module>\u001b[0;34m\u001b[0m\n\u001b[1;32m     <a href='file:///Users/simon/Documents/GitHub/UCCD2513-W4/env/lib/python3.10/site-packages/numpy/core/__init__.py?line=21'>22</a>\u001b[0m \u001b[39mtry\u001b[39;00m:\n\u001b[0;32m---> <a href='file:///Users/simon/Documents/GitHub/UCCD2513-W4/env/lib/python3.10/site-packages/numpy/core/__init__.py?line=22'>23</a>\u001b[0m     \u001b[39mfrom\u001b[39;00m \u001b[39m.\u001b[39;00m \u001b[39mimport\u001b[39;00m multiarray\n\u001b[1;32m     <a href='file:///Users/simon/Documents/GitHub/UCCD2513-W4/env/lib/python3.10/site-packages/numpy/core/__init__.py?line=23'>24</a>\u001b[0m \u001b[39mexcept\u001b[39;00m \u001b[39mImportError\u001b[39;00m \u001b[39mas\u001b[39;00m exc:\n",
      "File \u001b[0;32m~/Documents/GitHub/UCCD2513-W4/env/lib/python3.10/site-packages/numpy/core/multiarray.py:10\u001b[0m, in \u001b[0;36m<module>\u001b[0;34m\u001b[0m\n\u001b[1;32m      <a href='file:///Users/simon/Documents/GitHub/UCCD2513-W4/env/lib/python3.10/site-packages/numpy/core/multiarray.py?line=8'>9</a>\u001b[0m \u001b[39mimport\u001b[39;00m \u001b[39mfunctools\u001b[39;00m\n\u001b[0;32m---> <a href='file:///Users/simon/Documents/GitHub/UCCD2513-W4/env/lib/python3.10/site-packages/numpy/core/multiarray.py?line=9'>10</a>\u001b[0m \u001b[39mfrom\u001b[39;00m \u001b[39m.\u001b[39;00m \u001b[39mimport\u001b[39;00m overrides\n\u001b[1;32m     <a href='file:///Users/simon/Documents/GitHub/UCCD2513-W4/env/lib/python3.10/site-packages/numpy/core/multiarray.py?line=10'>11</a>\u001b[0m \u001b[39mfrom\u001b[39;00m \u001b[39m.\u001b[39;00m \u001b[39mimport\u001b[39;00m _multiarray_umath\n",
      "File \u001b[0;32m~/Documents/GitHub/UCCD2513-W4/env/lib/python3.10/site-packages/numpy/core/overrides.py:6\u001b[0m, in \u001b[0;36m<module>\u001b[0;34m\u001b[0m\n\u001b[1;32m      <a href='file:///Users/simon/Documents/GitHub/UCCD2513-W4/env/lib/python3.10/site-packages/numpy/core/overrides.py?line=3'>4</a>\u001b[0m \u001b[39mimport\u001b[39;00m \u001b[39mos\u001b[39;00m\n\u001b[0;32m----> <a href='file:///Users/simon/Documents/GitHub/UCCD2513-W4/env/lib/python3.10/site-packages/numpy/core/overrides.py?line=5'>6</a>\u001b[0m \u001b[39mfrom\u001b[39;00m \u001b[39mnumpy\u001b[39;00m\u001b[39m.\u001b[39;00m\u001b[39mcore\u001b[39;00m\u001b[39m.\u001b[39;00m\u001b[39m_multiarray_umath\u001b[39;00m \u001b[39mimport\u001b[39;00m (\n\u001b[1;32m      <a href='file:///Users/simon/Documents/GitHub/UCCD2513-W4/env/lib/python3.10/site-packages/numpy/core/overrides.py?line=6'>7</a>\u001b[0m     add_docstring, implement_array_function, _get_implementing_args)\n\u001b[1;32m      <a href='file:///Users/simon/Documents/GitHub/UCCD2513-W4/env/lib/python3.10/site-packages/numpy/core/overrides.py?line=7'>8</a>\u001b[0m \u001b[39mfrom\u001b[39;00m \u001b[39mnumpy\u001b[39;00m\u001b[39m.\u001b[39;00m\u001b[39mcompat\u001b[39;00m\u001b[39m.\u001b[39;00m\u001b[39m_inspect\u001b[39;00m \u001b[39mimport\u001b[39;00m getargspec\n",
      "\u001b[0;31mImportError\u001b[0m: dlopen(/Users/simon/Documents/GitHub/UCCD2513-W4/env/lib/python3.10/site-packages/numpy/core/_multiarray_umath.cpython-310-darwin.so, 0x0002): tried: '/Users/simon/Documents/GitHub/UCCD2513-W4/env/lib/python3.10/site-packages/numpy/core/_multiarray_umath.cpython-310-darwin.so' (mach-o file, but is an incompatible architecture (have 'arm64', need 'x86_64'))",
      "\nDuring handling of the above exception, another exception occurred:\n",
      "\u001b[0;31mImportError\u001b[0m                               Traceback (most recent call last)",
      "\u001b[1;32m/Users/simon/Documents/GitHub/UCCD2513-W4/Loh Chun Fai - 19ACB01242.ipynb Cell 1'\u001b[0m in \u001b[0;36m<cell line: 5>\u001b[0;34m()\u001b[0m\n\u001b[1;32m      <a href='vscode-notebook-cell:/Users/simon/Documents/GitHub/UCCD2513-W4/Loh%20Chun%20Fai%20-%2019ACB01242.ipynb#ch0000002?line=1'>2</a>\u001b[0m \u001b[39m# Python 3.7 is required\u001b[39;00m\n\u001b[1;32m      <a href='vscode-notebook-cell:/Users/simon/Documents/GitHub/UCCD2513-W4/Loh%20Chun%20Fai%20-%2019ACB01242.ipynb#ch0000002?line=2'>3</a>\u001b[0m \u001b[39massert\u001b[39;00m sys\u001b[39m.\u001b[39mversion_info \u001b[39m>\u001b[39m\u001b[39m=\u001b[39m (\u001b[39m3\u001b[39m,\u001b[39m7\u001b[39m)\n\u001b[0;32m----> <a href='vscode-notebook-cell:/Users/simon/Documents/GitHub/UCCD2513-W4/Loh%20Chun%20Fai%20-%2019ACB01242.ipynb#ch0000002?line=4'>5</a>\u001b[0m \u001b[39mimport\u001b[39;00m \u001b[39mcv2\u001b[39;00m \u001b[39mas\u001b[39;00m \u001b[39mcv\u001b[39;00m\n\u001b[1;32m      <a href='vscode-notebook-cell:/Users/simon/Documents/GitHub/UCCD2513-W4/Loh%20Chun%20Fai%20-%2019ACB01242.ipynb#ch0000002?line=5'>6</a>\u001b[0m \u001b[39mimport\u001b[39;00m \u001b[39mnumpy\u001b[39;00m \u001b[39mas\u001b[39;00m \u001b[39mnp\u001b[39;00m\n\u001b[1;32m      <a href='vscode-notebook-cell:/Users/simon/Documents/GitHub/UCCD2513-W4/Loh%20Chun%20Fai%20-%2019ACB01242.ipynb#ch0000002?line=7'>8</a>\u001b[0m \u001b[39m# For reproducibility,\u001b[39;00m\n",
      "File \u001b[0;32m~/Documents/GitHub/UCCD2513-W4/env/lib/python3.10/site-packages/cv2/__init__.py:11\u001b[0m, in \u001b[0;36m<module>\u001b[0;34m\u001b[0m\n\u001b[1;32m      <a href='file:///Users/simon/Documents/GitHub/UCCD2513-W4/env/lib/python3.10/site-packages/cv2/__init__.py?line=7'>8</a>\u001b[0m __all__ \u001b[39m=\u001b[39m []\n\u001b[1;32m     <a href='file:///Users/simon/Documents/GitHub/UCCD2513-W4/env/lib/python3.10/site-packages/cv2/__init__.py?line=9'>10</a>\u001b[0m \u001b[39mtry\u001b[39;00m:\n\u001b[0;32m---> <a href='file:///Users/simon/Documents/GitHub/UCCD2513-W4/env/lib/python3.10/site-packages/cv2/__init__.py?line=10'>11</a>\u001b[0m     \u001b[39mimport\u001b[39;00m \u001b[39mnumpy\u001b[39;00m\n\u001b[1;32m     <a href='file:///Users/simon/Documents/GitHub/UCCD2513-W4/env/lib/python3.10/site-packages/cv2/__init__.py?line=11'>12</a>\u001b[0m     \u001b[39mimport\u001b[39;00m \u001b[39mnumpy\u001b[39;00m\u001b[39m.\u001b[39;00m\u001b[39mcore\u001b[39;00m\u001b[39m.\u001b[39;00m\u001b[39mmultiarray\u001b[39;00m\n\u001b[1;32m     <a href='file:///Users/simon/Documents/GitHub/UCCD2513-W4/env/lib/python3.10/site-packages/cv2/__init__.py?line=12'>13</a>\u001b[0m \u001b[39mexcept\u001b[39;00m \u001b[39mImportError\u001b[39;00m:\n",
      "File \u001b[0;32m~/Documents/GitHub/UCCD2513-W4/env/lib/python3.10/site-packages/numpy/__init__.py:140\u001b[0m, in \u001b[0;36m<module>\u001b[0;34m\u001b[0m\n\u001b[1;32m    <a href='file:///Users/simon/Documents/GitHub/UCCD2513-W4/env/lib/python3.10/site-packages/numpy/__init__.py?line=136'>137</a>\u001b[0m \u001b[39m# Allow distributors to run custom init code\u001b[39;00m\n\u001b[1;32m    <a href='file:///Users/simon/Documents/GitHub/UCCD2513-W4/env/lib/python3.10/site-packages/numpy/__init__.py?line=137'>138</a>\u001b[0m \u001b[39mfrom\u001b[39;00m \u001b[39m.\u001b[39;00m \u001b[39mimport\u001b[39;00m _distributor_init\n\u001b[0;32m--> <a href='file:///Users/simon/Documents/GitHub/UCCD2513-W4/env/lib/python3.10/site-packages/numpy/__init__.py?line=139'>140</a>\u001b[0m \u001b[39mfrom\u001b[39;00m \u001b[39m.\u001b[39;00m \u001b[39mimport\u001b[39;00m core\n\u001b[1;32m    <a href='file:///Users/simon/Documents/GitHub/UCCD2513-W4/env/lib/python3.10/site-packages/numpy/__init__.py?line=140'>141</a>\u001b[0m \u001b[39mfrom\u001b[39;00m \u001b[39m.\u001b[39;00m\u001b[39mcore\u001b[39;00m \u001b[39mimport\u001b[39;00m \u001b[39m*\u001b[39m\n\u001b[1;32m    <a href='file:///Users/simon/Documents/GitHub/UCCD2513-W4/env/lib/python3.10/site-packages/numpy/__init__.py?line=141'>142</a>\u001b[0m \u001b[39mfrom\u001b[39;00m \u001b[39m.\u001b[39;00m \u001b[39mimport\u001b[39;00m compat\n",
      "File \u001b[0;32m~/Documents/GitHub/UCCD2513-W4/env/lib/python3.10/site-packages/numpy/core/__init__.py:49\u001b[0m, in \u001b[0;36m<module>\u001b[0;34m\u001b[0m\n\u001b[1;32m     <a href='file:///Users/simon/Documents/GitHub/UCCD2513-W4/env/lib/python3.10/site-packages/numpy/core/__init__.py?line=24'>25</a>\u001b[0m     \u001b[39mimport\u001b[39;00m \u001b[39msys\u001b[39;00m\n\u001b[1;32m     <a href='file:///Users/simon/Documents/GitHub/UCCD2513-W4/env/lib/python3.10/site-packages/numpy/core/__init__.py?line=25'>26</a>\u001b[0m     msg \u001b[39m=\u001b[39m \u001b[39m\"\"\"\u001b[39m\n\u001b[1;32m     <a href='file:///Users/simon/Documents/GitHub/UCCD2513-W4/env/lib/python3.10/site-packages/numpy/core/__init__.py?line=26'>27</a>\u001b[0m \n\u001b[1;32m     <a href='file:///Users/simon/Documents/GitHub/UCCD2513-W4/env/lib/python3.10/site-packages/numpy/core/__init__.py?line=27'>28</a>\u001b[0m \u001b[39mIMPORTANT: PLEASE READ THIS FOR ADVICE ON HOW TO SOLVE THIS ISSUE!\u001b[39m\n\u001b[0;32m   (...)\u001b[0m\n\u001b[1;32m     <a href='file:///Users/simon/Documents/GitHub/UCCD2513-W4/env/lib/python3.10/site-packages/numpy/core/__init__.py?line=46'>47</a>\u001b[0m \u001b[39m\"\"\"\u001b[39m \u001b[39m%\u001b[39m (sys\u001b[39m.\u001b[39mversion_info[\u001b[39m0\u001b[39m], sys\u001b[39m.\u001b[39mversion_info[\u001b[39m1\u001b[39m], sys\u001b[39m.\u001b[39mexecutable,\n\u001b[1;32m     <a href='file:///Users/simon/Documents/GitHub/UCCD2513-W4/env/lib/python3.10/site-packages/numpy/core/__init__.py?line=47'>48</a>\u001b[0m         __version__, exc)\n\u001b[0;32m---> <a href='file:///Users/simon/Documents/GitHub/UCCD2513-W4/env/lib/python3.10/site-packages/numpy/core/__init__.py?line=48'>49</a>\u001b[0m     \u001b[39mraise\u001b[39;00m \u001b[39mImportError\u001b[39;00m(msg)\n\u001b[1;32m     <a href='file:///Users/simon/Documents/GitHub/UCCD2513-W4/env/lib/python3.10/site-packages/numpy/core/__init__.py?line=49'>50</a>\u001b[0m \u001b[39mfinally\u001b[39;00m:\n\u001b[1;32m     <a href='file:///Users/simon/Documents/GitHub/UCCD2513-W4/env/lib/python3.10/site-packages/numpy/core/__init__.py?line=50'>51</a>\u001b[0m     \u001b[39mfor\u001b[39;00m envkey \u001b[39min\u001b[39;00m env_added:\n",
      "\u001b[0;31mImportError\u001b[0m: \n\nIMPORTANT: PLEASE READ THIS FOR ADVICE ON HOW TO SOLVE THIS ISSUE!\n\nImporting the numpy C-extensions failed. This error can happen for\nmany reasons, often due to issues with your setup or how NumPy was\ninstalled.\n\nWe have compiled some common reasons and troubleshooting tips at:\n\n    https://numpy.org/devdocs/user/troubleshooting-importerror.html\n\nPlease note and check the following:\n\n  * The Python version is: Python3.10 from \"/Users/simon/Documents/GitHub/UCCD2513-W4/env/bin/python\"\n  * The NumPy version is: \"1.23.0\"\n\nand make sure that they are the versions you expect.\nPlease carefully study the documentation linked above for further help.\n\nOriginal error was: dlopen(/Users/simon/Documents/GitHub/UCCD2513-W4/env/lib/python3.10/site-packages/numpy/core/_multiarray_umath.cpython-310-darwin.so, 0x0002): tried: '/Users/simon/Documents/GitHub/UCCD2513-W4/env/lib/python3.10/site-packages/numpy/core/_multiarray_umath.cpython-310-darwin.so' (mach-o file, but is an incompatible architecture (have 'arm64', need 'x86_64'))\n"
     ]
    }
   ],
   "source": [
    "import sys\n",
    "# Python 3.7 is required\n",
    "assert sys.version_info >= (3,7)\n",
    "\n",
    "import cv2 as cv\n",
    "import numpy as np\n",
    "\n",
    "# For reproducibility,\n",
    "np.random.seed(99)\n",
    "\n",
    "# Make sure that optimization is enabled\n",
    "if not cv.useOptimized():\n",
    "    cv.setUseOptimized(True)\n",
    "\n",
    "cv.useOptimized()"
   ]
  },
  {
   "cell_type": "code",
   "execution_count": null,
   "metadata": {},
   "outputs": [],
   "source": []
  }
 ],
 "metadata": {
  "interpreter": {
   "hash": "8a765f6774ba1d2d4ae3def49302f0d1010611d429762ef250acae455827d72e"
  },
  "kernelspec": {
   "display_name": "Python 3.10.0 ('env': venv)",
   "language": "python",
   "name": "python3"
  },
  "language_info": {
   "codemirror_mode": {
    "name": "ipython",
    "version": 3
   },
   "file_extension": ".py",
   "mimetype": "text/x-python",
   "name": "python",
   "nbconvert_exporter": "python",
   "pygments_lexer": "ipython3",
   "version": "3.10.0"
  },
  "orig_nbformat": 4
 },
 "nbformat": 4,
 "nbformat_minor": 2
}
